{
 "cells": [
  {
   "cell_type": "markdown",
   "source": [
    "# 7. 👨🏼‍💻 Daily LeetCode For Jupyter Notebook  👨🏼‍💻\n",
    "\n",
    "[![Programming Language For Python](https://img.shields.io/badge/Programming%20Language-Python-blue.svg?style=for-the-badge&logo=python&logoColor=white&cacheSeconds=3600)]()\n",
    "\n",
    "## 题目:  ()\n",
    "- 中文：\n",
    "- 英文：\n",
    "\n",
    "``` bash\n",
    "<Description>\n",
    "\n",
    "</Description>\n",
    "\n",
    "<Example>\n",
    "\n",
    "</Example>\n",
    "```\n",
    "\n",
    "## 编码难度：( | ) ✅"
   ],
   "metadata": {
    "collapsed": false
   }
  }
 ],
 "metadata": {
  "kernelspec": {
   "display_name": "${KERNEL_SPEC_DISPLAY_NAME}",
   "language": "${KERNEL_SPEC_LANGUAGE}",
   "name": "${KERNEL_SPEC_NAME}"
  },
  "language_info": {
   "codemirror_mode": {
    "name": "ipython",
    "version": 2
   },
   "file_extension": ".py",
   "mimetype": "text/x-python",
   "name": "python",
   "nbconvert_exporter": "python",
   "pygments_lexer": "ipython2",
   "version": "2.7.6"
  },
  "pycharm": {
   "stem_cell": {
    "cell_type": "raw",
    "source": [],
    "metadata": {
     "collapsed": false
    }
   }
  }
 },
 "nbformat": 4,
 "nbformat_minor": 0
}
