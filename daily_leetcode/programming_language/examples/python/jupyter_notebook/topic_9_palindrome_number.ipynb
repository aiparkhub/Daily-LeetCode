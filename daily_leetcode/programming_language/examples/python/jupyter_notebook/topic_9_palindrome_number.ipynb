{
 "cells": [
  {
   "cell_type": "markdown",
   "source": [
    "# 9. 👨🏼‍💻 Daily LeetCode For Jupyter Notebook  👨🏼‍💻\n",
    "\n",
    "## Coding For Show Time - Daily LeetCode | Enhanced Algorithmic Ideas\n",
    "\n",
    "[![Programming Language For Python](https://img.shields.io/badge/Programming%20Language-Python-blue.svg?style=for-the-badge&logo=python&logoColor=white&cacheSeconds=3600)]()\n",
    "[![Github Organization For AiParkHub](https://img.shields.io/badge/Github%20Organization-aiparkhub-magenta.svg?style=for-the-badge&logo=microsoft-teams&logoColor=white&cacheSeconds=3600)](https://github.com/aiparkhub)\n",
    "[![WebSite For AiParkHub](https://img.shields.io/badge/WebSite-AIParkHub-yellow.svg?style=for-the-badge&logo=github&cacheSeconds=3600)](https://github.com/aiparkhub)\n",
    "\n",
    "## 题目: Palindrome Number (回文数)\n",
    "- 中文：https://leetcode-cn.com/problems/palindrome-number/\n",
    "- 英文：https://leetcode.com/problems/palindrome-number/\n",
    "\n",
    "``` bash\n",
    "<Description>\n",
    "判断一个整数是否是回文数, 回文数是指正序(从左向右)和倒序(从右向左)读都是一样的整数;\n",
    "</Description>\n",
    "\n",
    "<Example>\n",
    "输入: 121\n",
    "输出: true\n",
    "\n",
    "输入: -121\n",
    "输出: false\n",
    "解释: 从左向右读为-121, 从右向左读,为121-, 因此它不是一个回文数;\n",
    "\n",
    "输入: 10\n",
    "输出: false\n",
    "解释: 从右向左读为01, 因此它不是一个回文数;\n",
    "</Example>\n",
    "```\n",
    "\n",
    "## 编码难度：(简单 | Simple) 🌟\n",
    "\n",
    "## 解法方案\n",
    "> 🧐 *Coding Ideas Type 1* 🧐\n",
    "\n",
    " - 首先负数肯定不是回文数;\n",
    " - 通过字符串进行反转, 再转化为数字, 对比数字是否相等即可;\n"
   ],
   "metadata": {
    "collapsed": false
   }
  },
  {
   "cell_type": "code",
   "execution_count": null,
   "outputs": [],
   "source": [
    "# -*- coding:utf-8 -*-\n",
    "#\n",
    "# Geek International Park | 极客国际公园 & GeekParkHub | 极客实验室\n",
    "# Website | https://www.geekparkhub.com\n",
    "# Description | Open · Creation |\n",
    "# Open Source Open Achievement Dream, GeekParkHub Co-construction has never been seen before.\n",
    "#\n",
    "# HackerParkHub | 黑客公园\n",
    "# Website | https://www.hackerparkhub.org\n",
    "# Description | In the spirit of fearless exploration, create unknown technology and worship of technology.\n",
    "#\n",
    "# AiParkHub | 人工智能公园\n",
    "# Website | https://github.com/aiparkhub\n",
    "# Description | Embark on the wave of AI and push the limits of machine intelligence.\n",
    "#\n",
    "# @GeekDeveloper : JEEP-711\n",
    "# @Author : system\n",
    "# @Version : 0.2.5\n",
    "# @Program : 定义 回文数 示例 | Definition Palindrome Example\n",
    "# @File : topic_9_palindrome_number.ipynb\n",
    "# @Copyright © 2019 - 2020 AiParkHub-Organization. All rights reserved.\n",
    "\n",
    "\n",
    "class Solution(object):\n",
    "    \"\"\"\n",
    "    定义 解答类 | Definition Solution Class\n",
    "    \"\"\"\n",
    "    \n",
    "    def isPalindrome(self, x):\n",
    "        \"\"\"\n",
    "        定义 判断是否是回文数 方法 | Definition Judge whether it is the number of palindromes Method\n",
    "        :param x: \n",
    "        :return: bool\n",
    "        \"\"\"\n",
    "        \n",
    "        # 去除非回文数负数\n",
    "        if x < 0:\n",
    "            return False\n",
    "        elif x != int(str(x)[::-1]):\n",
    "            return False\n",
    "        else:\n",
    "            return True\n",
    "\n",
    "  \n",
    "# 定义 主模块 | Definition Main module\n",
    "if __name__ == '__main__':\n",
    "    # 定义 变量 | Definition variable\n",
    "    num_1 = 2345\n",
    "    num_2 = 121\n",
    "    \n",
    "    # 创建 对象实例 | Create object instance\n",
    "    s = Solution()\n",
    "    \n",
    "    # 调用方法 输出打印结果 | Call method Output print result\n",
    "    print(\"res_1 =>\", s.isPalindrome(num_1))\n",
    "    print(\"res_2 =>\", s.isPalindrome(num_1))\n",
    "\n"
   ],
   "metadata": {
    "collapsed": false,
    "pycharm": {
     "name": "#%%\n"
    }
   }
  },
  {
   "cell_type": "markdown",
   "source": [
    "> 🧐 *Coding Ideas Type 2* 🧐\n",
    "\n",
    " - 为了降低复杂度, 已知负数一定不是回文数, 如果一个数字是正数并且能被0整除, 那一定也不是回文数;\n"
   ],
   "metadata": {
    "collapsed": false,
    "pycharm": {
     "name": "#%% md\n"
    }
   }
  },
  {
   "cell_type": "code",
   "execution_count": null,
   "outputs": [],
   "source": [
    "# -*- coding:utf-8 -*-\n",
    "#\n",
    "# Geek International Park | 极客国际公园 & GeekParkHub | 极客实验室\n",
    "# Website | https://www.geekparkhub.com\n",
    "# Description | Open · Creation |\n",
    "# Open Source Open Achievement Dream, GeekParkHub Co-construction has never been seen before.\n",
    "#\n",
    "# HackerParkHub | 黑客公园\n",
    "# Website | https://www.hackerparkhub.org\n",
    "# Description | In the spirit of fearless exploration, create unknown technology and worship of technology.\n",
    "#\n",
    "# AiParkHub | 人工智能公园\n",
    "# Website | https://github.com/aiparkhub\n",
    "# Description | Embark on the wave of AI and push the limits of machine intelligence.\n",
    "#\n",
    "# @GeekDeveloper : JEEP-711\n",
    "# @Author : system\n",
    "# @Version : 0.2.5\n",
    "# @Program : 定义 回文数 示例 | Definition Palindrome Example\n",
    "# @File : topic_9_palindrome_number.ipynb\n",
    "# @Copyright © 2019 - 2020 AiParkHub-Organization. All rights reserved.\n",
    "\n",
    "\n",
    "class Solution(object):\n",
    "    \"\"\"\n",
    "    定义 解答类 | Definition Solution Class\n",
    "    \"\"\"\n",
    "    \n",
    "    def isPalindrome(self, x):\n",
    "        \"\"\"\n",
    "        定义 判断是否是回文数 方法 | Definition Judge whether it is the number of palindromes Method\n",
    "        处理特殊情况：\n",
    "        1. 负数一定不是回文数;\n",
    "        2. 如果数字的最后一位是0, 为了让数字是回文数字, 则第一位数字也应该是0, 只有0满足这种情况;\n",
    "        :param x: \n",
    "        :return: bool\n",
    "        \"\"\"\n",
    "        \n",
    "        if x < 0 or (x % 10 == 0 and x is not 0):\n",
    "            return False\n",
    "        revertNumber = 0\n",
    "        while x > revertNumber:\n",
    "            revertNumber = revertNumber * 10 + x % 10\n",
    "            x /= 10\n",
    "        \"\"\"\n",
    "        当数字长度为奇数时可以通过revertedNumber/10去除处于中位的数字;\n",
    "        例如: 当输入为12321时, 在while循环的末尾可以得到x = 12, revertedNumber = 123\n",
    "        由于处于中位的数字不影响回文(它总是与自己相等)所以可以简单地将其去除;\n",
    "        \"\"\"\n",
    "        return x == revertNumber or x == revertNumber / 10\n",
    "\n",
    "\n",
    "# 定义 主模块 | Definition Main module\n",
    "if __name__ == '__main__':\n",
    "    # 定义 变量 | Definition variable\n",
    "    num_1 = 2345\n",
    "    num_2 = 121\n",
    "    \n",
    "    # 创建 对象实例 | Create object instance\n",
    "    s = Solution()\n",
    "    \n",
    "    # 调用方法 输出打印结果 | Call method Output print result\n",
    "    print(\"res_1 =>\", s.isPalindrome(num_1))\n",
    "    print(\"res_2 =>\", s.isPalindrome(num_1))"
   ],
   "metadata": {
    "collapsed": false,
    "pycharm": {
     "name": "#%%\n"
    }
   }
  }
 ],
 "metadata": {
  "kernelspec": {
   "name": "python3",
   "language": "python",
   "display_name": "Python 3"
  },
  "language_info": {
   "codemirror_mode": {
    "name": "ipython",
    "version": 2
   },
   "file_extension": ".py",
   "mimetype": "text/x-python",
   "name": "python",
   "nbconvert_exporter": "python",
   "pygments_lexer": "ipython2",
   "version": "2.7.6"
  },
  "pycharm": {
   "stem_cell": {
    "cell_type": "raw",
    "source": [],
    "metadata": {
     "collapsed": false
    }
   }
  }
 },
 "nbformat": 4,
 "nbformat_minor": 0
}
