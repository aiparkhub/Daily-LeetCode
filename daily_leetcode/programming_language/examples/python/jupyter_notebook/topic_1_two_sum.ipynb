{
 "cells": [
  {
   "cell_type": "markdown",
   "metadata": {
    "pycharm": {
     "name": "#%% md\n"
    }
   },
   "source": [
    "# 1. 👨🏼‍💻 Daily LeetCode For Jupyter Notebook 👨🏼‍💻\n",
    "\n",
    "## Coding For Show Time - Daily LeetCode | Enhanced Algorithmic Ideas\n",
    "\n",
    "[![Programming Language For Python](https://img.shields.io/badge/Programming%20Language-Python-blue.svg?style=for-the-badge&logo=python&logoColor=white&cacheSeconds=3600)]()\n",
    "[![Github Organization For AiParkHub](https://img.shields.io/badge/Github%20Organization-aiparkhub-magenta.svg?style=for-the-badge&logo=microsoft-teams&logoColor=white&cacheSeconds=3600)](https://github.com/aiparkhub)\n",
    "[![WebSite For AiParkHub](https://img.shields.io/badge/WebSite-AIParkHub-yellow.svg?style=for-the-badge&logo=github&cacheSeconds=3600)](https://github.com/aiparkhub)\n",
    "\n",
    "## 题目: Two Sum (两数之和)\n",
    " - 中文 https://leetcode-cn.com/problems/two-sum/description/\n",
    " - 英文 https://leetcode.com/problems/two-sum/\n",
    "\n",
    "``` bash\n",
    "<Description>\n",
    "给定一个整数数组和一个目标值, 寻找出数组中和为目标值的两个数;\n",
    "你可以假设每个输入只对应一种答案，且同样的元素不能被重复利用;\n",
    "</Description>\n",
    "\n",
    "<Example>\n",
    "给定 整数数组 nums = [2, 7, 11, 15], 目标值 target = 9\n",
    "因为 nums[0] + nums[1] = 2 + 7 = 9, 所以返回 [0, 1]\n",
    "</Example>\n",
    "```\n",
    "\n",
    "## 编码难度：(容易 | Easy) ✅\n",
    "\n",
    "这个题目略微有些简单, 但值得注意的是同样的元素不能被重复利用两次;\n",
    "\n",
    "深度思考是不是可以使用一次循环就能够找到这两个数？接下来列举编码思路解决这个问题;\n",
    "\n",
    "\n",
    "> 🧐 *Coding Ideas Type 1* 🧐\n",
    "\n",
    "- 简单判断是否两个数都在`list`集合中, 以及判断两个数不是重复利用一个元素即可;"
   ]
  },
  {
   "cell_type": "code",
   "execution_count": 1,
   "metadata": {
    "collapsed": false,
    "jupyter": {
     "outputs_hidden": false
    },
    "pycharm": {
     "name": "#%%\n"
    }
   },
   "outputs": [
    {
     "name": "stdout",
     "output_type": "stream",
     "text": [
      "res_1 =>  [1, 2]\n"
     ]
    }
   ],
   "source": [
    "# -*- coding:utf-8 -*-\n",
    "#\n",
    "# Geek International Park | 极客国际公园 & GeekParkHub | 极客实验室\n",
    "# Website | https://www.geekparkhub.com\n",
    "# Description | Open · Creation |\n",
    "# Open Source Open Achievement Dream, GeekParkHub Co-construction has never been seen before.\n",
    "#\n",
    "# HackerParkHub | 黑客公园\n",
    "# Website | https://www.hackerparkhub.org\n",
    "# Description | In the spirit of fearless exploration, create unknown technology and worship of technology.\n",
    "#\n",
    "# AIParkHub | 人工智能公园\n",
    "# Website | https://github.com/aiparkhub\n",
    "# Description | Embark on the wave of AI and push the limits of machine intelligence.\n",
    "#\n",
    "# @GeekDeveloper : JEEP-711\n",
    "# @Author : system\n",
    "# @Version : 0.2.5\n",
    "# @Program : 定义 两数之和 示例 | Definition Sum of two numbers Example\n",
    "# @File : topic_1_two_sum.ipynb\n",
    "# @Copyright © 2019 - 2020 AIParkHub-Organization. All rights reserved.\n",
    "\n",
    "\n",
    "class Solution(object):\n",
    "    \"\"\"\n",
    "    定义 解答类 | Definition Solution Class\n",
    "    \"\"\"\n",
    "    \n",
    "    def two_sum(self, nums, target):\n",
    "        \"\"\"\n",
    "        定义 两数之和 方法 | Definition sum of two methods\n",
    "        :type nums: List[int]\n",
    "        :type target: int\n",
    "        :rtype: List[int]\n",
    "        \"\"\"\n",
    "        # 循环遍历`nums` | Loop through `nums`\n",
    "        for num_one in nums:\n",
    "            # 判断 目标值(target) 减去 当前第一个值(num_one) 是否仍在nums list中, 另一个条件是这两个数不是同一个元素\n",
    "            if target - num_one in nums and num_one is not target-num_one:\n",
    "                # 返回两个数对应的索引值\n",
    "                return [nums.index(num_one), nums.index(target - num_one)]\n",
    "\n",
    "# 定义 主模块 | Definition Main module\n",
    "if __name__ == \"__main__\":\n",
    "    nums = [4, 3, 5, 15]  # 定义 正数数组 变量 | Definition positive array variable\n",
    "    target = 8  # 定义 目标值 变量 | Define target value variable\n",
    "    \n",
    "    s = Solution()  # 创建对象实例 | Create object instance\n",
    "    res_1 = s.two_sum(nums, target)  # 对象实例 调用方法 | Object instance call method\n",
    "    print(\"res_1 => \", res_1)  # 输出打印结果 | Output print results"
   ]
  },
  {
   "cell_type": "markdown",
   "metadata": {
    "pycharm": {
     "name": "#%% md\n"
    }
   },
   "source": [
    "> 🧐 *Coding Ideas Type  2* 🧐\n",
    "\n",
    " - 其实上一个解决方案已经使用了一个for循环, 这次换一种思路;\n",
    " - 可以用 $O(n^2)$ 的循环 (lookup), 其实也可以牺牲空间换取时间, 异常聪明的AC解法;\n",
    " \n",
    "```\n",
    "    2     7      11    15\n",
    "    不存在 存在之中  \n",
    "lookup {2:0} [0, 1]\n",
    "```\n",
    "\n",
    "大体思路如下: \n",
    " - 建立字典`lookup`存放第一个数字, 并存放该数字的索引(`index`)\n",
    " - 判断 `lookup` 中是否存在:  target - 当前数字, 则表面当前值和`lookup`中的值加和为`target`\n",
    " - 如果存在则返回: target - 当前数字的index和当前值的index"
   ]
  },
  {
   "cell_type": "code",
   "execution_count": 2,
   "metadata": {
    "collapsed": false,
    "jupyter": {
     "outputs_hidden": false
    },
    "pycharm": {
     "name": "#%%\n"
    }
   },
   "outputs": [
    {
     "name": "stdout",
     "output_type": "stream",
     "text": [
      "res_2 =>  [1, 2]\n"
     ]
    }
   ],
   "source": [
    "# -*- coding:utf-8 -*-\n",
    "#\n",
    "# Geek International Park | 极客国际公园 & GeekParkHub | 极客实验室\n",
    "# Website | https://www.geekparkhub.com\n",
    "# Description | Open · Creation |\n",
    "# Open Source Open Achievement Dream, GeekParkHub Co-construction has never been seen before.\n",
    "#\n",
    "# HackerParkHub | 黑客公园\n",
    "# Website | https://www.hackerparkhub.org\n",
    "# Description | In the spirit of fearless exploration, create unknown technology and worship of technology.\n",
    "#\n",
    "# AIParkHub | 人工智能公园\n",
    "# Website | https://github.com/aiparkhub\n",
    "# Description | Embark on the wave of AI and push the limits of machine intelligence.\n",
    "#\n",
    "# @GeekDeveloper : JEEP-711\n",
    "# @Author : system\n",
    "# @Version : 0.2.5\n",
    "# @Program : 定义 两数之和 示例 | Definition Sum of two numbers Example\n",
    "# @File : topic_1_two_sum.ipynb\n",
    "# @Copyright © 2019 - 2020 AIParkHub-Organization. All rights reserved.\n",
    "\n",
    "\n",
    "class Solution(object):\n",
    "    \"\"\"\n",
    "    定义 解答类 | Definition Solution Class\n",
    "    \"\"\"\n",
    "        \n",
    "    def two_sum(self, nums, target):\n",
    "        \"\"\"\n",
    "        定义 两数之和 方法 | Definition sum of two methods\n",
    "        :type nums: List[int]\n",
    "        :type target: int\n",
    "        :rtype: List[int]\n",
    "        \"\"\"\n",
    "        # 创建 lookup 字典\n",
    "        lookup = {}\n",
    "        # 使用 enumerate 语法, 返回的是每一个元素及其对应的index索引\n",
    "        for i, num in enumerate(nums):\n",
    "            if target - num in lookup:\n",
    "                return [lookup[target - num],i]\n",
    "            lookup[num] = i\n",
    "        return []\n",
    "\n",
    "# 定义 主模块 | Definition Main module\n",
    "if __name__ == \"__main__\":\n",
    "    nums = [4, 3, 5, 15]  # 定义 正数数组 变量 | Definition positive array variable\n",
    "    target = 8  # 定义 目标值 变量 | Define target value variable\n",
    "    s = Solution()  # 创建对象实例 | Create object instance\n",
    "    res_2 = s.two_sum(nums, target)  # 对象实例 调用方法 | Object instance call method\n",
    "    print(\"res_2 => \", res_2)  # 输出打印结果 | Output print results\n"
   ]
  },
  {
   "cell_type": "markdown",
   "metadata": {
    "pycharm": {
     "name": "#%% md\n"
    }
   },
   "source": [
    "> 🧐 *Coding Ideas Type  3* 🧐\n",
    "\n",
    " - 对于dict字典, 也就是其他语言的map, 判断一个元素在不在容器中, list要遍历, 而set和dict直接根据哈希算出, 不需要遍历;\n",
    " - 现在可以仿照上面的代码换一种更简单的写法;\n",
    " - 对于字典方式, 如果只是判断 `i` 以及 `target - i` 是不是相等, 这样是错误的思路, 如果两个元素相同, 但是不是同一个元素, 那就会出错了;"
   ]
  },
  {
   "cell_type": "code",
   "execution_count": 1,
   "metadata": {
    "collapsed": false,
    "jupyter": {
     "outputs_hidden": false
    },
    "pycharm": {
     "is_executing": false,
     "name": "#%%\n"
    }
   },
   "outputs": [
    {
     "name": "stdout",
     "output_type": "stream",
     "text": [
      "res_3 =>  [0, 1]\n"
     ]
    }
   ],
   "source": [
    "# -*- coding:utf-8 -*-\n",
    "#\n",
    "# Geek International Park | 极客国际公园 & GeekParkHub | 极客实验室\n",
    "# Website | https://www.geekparkhub.com\n",
    "# Description | Open · Creation |\n",
    "# Open Source Open Achievement Dream, GeekParkHub Co-construction has never been seen before.\n",
    "#\n",
    "# HackerParkHub | 黑客公园\n",
    "# Website | https://www.hackerparkhub.org\n",
    "# Description | In the spirit of fearless exploration, create unknown technology and worship of technology.\n",
    "#\n",
    "# AIParkHub | 人工智能公园\n",
    "# Website | https://github.com/aiparkhub\n",
    "# Description | Embark on the wave of AI and push the limits of machine intelligence.\n",
    "#\n",
    "# @GeekDeveloper : JEEP-711\n",
    "# @Author : system\n",
    "# @Version : 0.2.5\n",
    "# @Program : 定义 两数之和 示例 | Definition Sum of two numbers Example\n",
    "# @File : topic_1_two_sum.ipynb\n",
    "# @Copyright © 2019 - 2020 AIParkHub-Organization. All rights reserved.\n",
    "\n",
    "\n",
    "class Solution:\n",
    "    \"\"\"\n",
    "    定义 解答类 | Definition Solution Class\n",
    "    \"\"\"\n",
    "    \n",
    "    def two_sum(self, nums, target):\n",
    "        \"\"\"\n",
    "        定义 两数之和 方法 | Definition sum of two methods\n",
    "        :type nums: List[int]\n",
    "        :type target: int\n",
    "        :rtype: List[int]\n",
    "        \"\"\"\n",
    "        for k, i in enumerate(nums):\n",
    "            if target - i in nums[k + 1:]:\n",
    "                return [k, nums[k + 1:].index(target - i) + k + 1]\n",
    "\n",
    "# 定义 主模块 | Definition Main module\n",
    "if __name__ == \"__main__\":\n",
    "    nums = [3, 3]  # 定义 正数数组 变量 | Definition positive array variable\n",
    "    target = 6  # 定义 目标值 变量 | Define target value variable\n",
    "    s = Solution()  # 创建对象实例 | Create object instance\n",
    "    res_3 = s.two_sum(nums, target)  # 对象实例 调用方法 | Object instance call method\n",
    "    print(\"res_3 => \", res_3)  # 输出打印结果 | Output print results"
   ]
  }
 ],
 "metadata": {
  "kernelspec": {
   "display_name": "Python 3",
   "language": "python",
   "name": "python3"
  },
  "language_info": {
   "codemirror_mode": {
    "name": "ipython",
    "version": 3
   },
   "file_extension": ".py",
   "mimetype": "text/x-python",
   "name": "python",
   "nbconvert_exporter": "python",
   "pygments_lexer": "ipython3",
   "version": "3.7.4"
  },
  "pycharm": {
   "stem_cell": {
    "cell_type": "raw",
    "source": [],
    "metadata": {
     "collapsed": false
    }
   }
  }
 },
 "nbformat": 4,
 "nbformat_minor": 4
}
