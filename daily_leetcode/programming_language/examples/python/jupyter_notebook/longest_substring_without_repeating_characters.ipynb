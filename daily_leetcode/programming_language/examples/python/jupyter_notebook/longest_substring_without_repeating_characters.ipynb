{
 "cells": [
  {
   "cell_type": "markdown",
   "metadata": {
    "collapsed": true,
    "pycharm": {
     "name": "#%% md\n"
    }
   },
   "source": [
    "# 3. 👨🏼‍💻 Daily LeetCode For Jupyter Notebook  👨🏼‍💻\n",
    "\n",
    "## 题目: Longest Substring Without Repeating Characters\n",
    "- 英文：https://leetcode.com/problems/longest-substring-without-repeating-characters/\n",
    "\n",
    "``` bash\n",
    "<Description>\n",
    "例如`xyzxlkjh`, 当看到第二个`x`时, 就应该从y开始重新往后看;\n",
    "那么怎么判断字符已经出现过了呢? 我们使用一个`hashmap`, 将每一个已经阅读过的字符作为键, \n",
    "而它的值就是它在原字符串中的索引, 如果现在的字符不在`hashmap`里面, 就把它加进hashmap中去,\n",
    "因此只要目前的这个字符在该hashmap中的值大于等于了这一轮字符串的首字符, 就说明它已经出现过了, \n",
    "我们就将首字符的索引加1, 即从后一位又重新开始读, 然后比较目前的子串长度与之前的最大长度取大者;\n",
    "</Description>\n",
    "```\n",
    "\n",
    "## 解法方案\n",
    "> 🧐 *Coding Ideas Type 1* 🧐\n",
    "先从第一个字符开始, 只要碰到已经出现过的字符就必须从之前出现该字符的索引开始重新往后看;\n",
    "\n",
    "### 程序变量 解释\n",
    "- l(字母L) 代表目前最大子串的长度;\n",
    "- start是这一轮未重复子串首字母的索引;\n",
    "- maps放置每一个字符的索引, 如果`maps.get(s[i], -1)`大于等于start的话就说明字符重复了, 此时就要重置 l(字母L)和start的值;\n"
   ]
  },
  {
   "cell_type": "code",
   "execution_count": null,
   "outputs": [],
   "source": [
    "# -*- coding:utf-8 -*-\n",
    "#\n",
    "# Geek International Park | 极客国际公园 & GeekParkHub | 极客实验室\n",
    "# Website | https://www.geekparkhub.com\n",
    "# Description | Open · Creation |\n",
    "# Open Source Open Achievement Dream, GeekParkHub Co-construction has never been seen before.\n",
    "#\n",
    "# HackerParkHub | 黑客公园\n",
    "# Website | https://www.hackerparkhub.org\n",
    "# Description | In the spirit of fearless exploration, create unknown technology and worship of technology.\n",
    "#\n",
    "# AiParkHub | 人工智能公园\n",
    "# Website | https://github.com/aiparkhub\n",
    "# Description | Embark on the wave of AI and push the limits of machine intelligence.\n",
    "#\n",
    "# @GeekDeveloper : JEEP-711\n",
    "# @Author : system\n",
    "# @Version : 0.2.5\n",
    "# @Program : 定义 最长字符串 无重复字符 示例 | Definition Longest string without repeated characters Example\n",
    "# @File : longest_substring_without_repeating_characters.ipynb\n",
    "# @Copyright © 2019 - 2020 AiParkHub-Organization. All rights reserved.\n",
    "\n",
    "\n",
    "class Solution(object):\n",
    "    \"\"\"\n",
    "    定义 解答类 | Definition Solution Class\n",
    "    \"\"\"\n",
    "    \n",
    "    @staticmethod\n",
    "    def lengthOfLongestSubstring(s):\n",
    "        \"\"\"\n",
    "        定义 处理 方法 | Definition processing method\n",
    "        :type s: str\n",
    "        :param s: \n",
    "        :return: int\n",
    "        \"\"\"\n",
    "        \n",
    "        l, start, n = 0, 0, len(s)\n",
    "        maps = {}\n",
    "        for i in range(n):\n",
    "            start = max(start, maps.get(s[i], -1)+1)\n",
    "            l = max(l, i - start+1)\n",
    "            maps[s[i]] = i\n",
    "        return l\n",
    "\n",
    "# 定义 主模块 | Definition Main module\n",
    "if __name__ == '__main':\n",
    "    STRING = 'xyzxlkjh'\n",
    "    res_1 = Solution.lengthOfLongestSubstring(STRING)\n",
    "    print(\"res_1 => \", res_1)\n",
    "            "
   ],
   "metadata": {
    "collapsed": false,
    "pycharm": {
     "name": "#%%\n"
    }
   }
  },
  {
   "cell_type": "code",
   "execution_count": null,
   "outputs": [],
   "source": [
    "# -*- coding:utf-8 -*-\n",
    "#\n",
    "# Geek International Park | 极客国际公园 & GeekParkHub | 极客实验室\n",
    "# Website | https://www.geekparkhub.com\n",
    "# Description | Open · Creation |\n",
    "# Open Source Open Achievement Dream, GeekParkHub Co-construction has never been seen before.\n",
    "#\n",
    "# HackerParkHub | 黑客公园\n",
    "# Website | https://www.hackerparkhub.org\n",
    "# Description | In the spirit of fearless exploration, create unknown technology and worship of technology.\n",
    "#\n",
    "# AiParkHub | 人工智能公园\n",
    "# Website | https://github.com/aiparkhub\n",
    "# Description | Embark on the wave of AI and push the limits of machine intelligence.\n",
    "#\n",
    "# @GeekDeveloper : JEEP-711\n",
    "# @Author : system\n",
    "# @Version : 0.2.5\n",
    "# @Program : 定义 最长字符串 无重复字符 示例 | Definition Longest string without repeated characters Example\n",
    "# @File : longest_substring_without_repeating_characters.ipynb\n",
    "# @Copyright © 2019 - 2020 AiParkHub-Organization. All rights reserved.\n",
    "\n",
    "\n",
    "class Solution(object):\n",
    "    \"\"\"\n",
    "    定义 解答类 | Definition Solution Class\n",
    "    \"\"\"\n",
    "    \n",
    "    @staticmethod\n",
    "    def lengthOfLongestSubstring(s):\n",
    "        \"\"\"\n",
    "        定义 处理 方法 | Definition processing method\n",
    "        :type s: str\n",
    "        :param s: \n",
    "        :return: int\n",
    "        \"\"\"\n",
    "        \n",
    "        maps = {}\n",
    "        begin, end, counter, d = 0, 0, 0, 0\n",
    "        while end < len(s):\n",
    "            if s[end] in maps:\n",
    "                maps[s[end]] += 1\n",
    "            else:\n",
    "                maps[s[end]] = 1\n",
    "            if maps[s[end]] > 1:\n",
    "                counter += 1\n",
    "            end += 1\n",
    "            \n",
    "            while counter > 0:\n",
    "                if maps[s[begin]] > 1:\n",
    "                    counter -= 1\n",
    "                maps[s[begin]] -= 1\n",
    "                begin += 1\n",
    "            d = max(d, end - begin)\n",
    "        return d\n",
    "\n",
    "\n",
    "# 定义 主模块 | Definition Main module    \n",
    "if __name__ == '__main':\n",
    "    STRING = 'xyzxlkjh' \n",
    "    res_2 = Solution.lengthOfLongestSubstring(STRING)\n",
    "    print(\"res_2 => \", res_2)\n"
   ],
   "metadata": {
    "collapsed": false,
    "pycharm": {
     "name": "#%%\n"
    }
   }
  }
 ],
 "metadata": {
  "kernelspec": {
   "name": "python3",
   "language": "python",
   "display_name": "Python 3"
  },
  "language_info": {
   "codemirror_mode": {
    "name": "ipython",
    "version": 2
   },
   "file_extension": ".py",
   "mimetype": "text/x-python",
   "name": "python",
   "nbconvert_exporter": "python",
   "pygments_lexer": "ipython2",
   "version": "2.7.6"
  },
  "pycharm": {
   "stem_cell": {
    "cell_type": "raw",
    "source": [],
    "metadata": {
     "collapsed": false
    }
   }
  }
 },
 "nbformat": 4,
 "nbformat_minor": 0
}
