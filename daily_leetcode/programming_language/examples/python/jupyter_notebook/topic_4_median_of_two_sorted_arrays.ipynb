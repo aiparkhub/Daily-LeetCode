{
 "cells": [
  {
   "cell_type": "markdown",
   "metadata": {
    "collapsed": true,
    "pycharm": {
     "name": "#%% md\n"
    }
   },
   "source": [
    "# 4. 👨🏼‍💻 Daily LeetCode For Jupyter Notebook  👨🏼‍💻\n",
    "\n",
    "## Coding For Show Time - Daily LeetCode | Enhanced Algorithmic Ideas\n",
    "\n",
    "[![Programming Language For Python](https://img.shields.io/badge/Programming%20Language-Python-blue.svg?style=for-the-badge&logo=python&logoColor=white&cacheSeconds=3600)]()\n",
    "[![Github Organization For AiParkHub](https://img.shields.io/badge/Github%20Organization-aiparkhub-magenta.svg?style=for-the-badge&logo=microsoft-teams&logoColor=white&cacheSeconds=3600)](https://github.com/aiparkhub)\n",
    "[![WebSite For AiParkHub](https://img.shields.io/badge/WebSite-AIParkHub-yellow.svg?style=for-the-badge&logo=github&cacheSeconds=3600)](https://github.com/aiparkhub)\n",
    "\n",
    "\n",
    "## 题目: Median of Two Sorted Arrays (寻找两个有序数组的中位数)\n",
    "- 中文：https://leetcode-cn.com/problems/median-of-two-sorted-arrays/\n",
    "- 英文：https://leetcode.com/problems/median-of-two-sorted-arrays/\n",
    "\n",
    "``` bash\n",
    "<Description>\n",
    "给定两个大小为m和n的有序数组nums1和nums2;\n",
    "请你找出这两个有序数组的中位数, 并且要求算法的时间复杂度为O(log(m + n));\n",
    "你可以假设nums1和 nums2不会同时为空;\n",
    "</Description>\n",
    "\n",
    "<Example>\n",
    "nums1 = [1, 3]\n",
    "nums2 = [2]\n",
    "则中位数是2.0\n",
    "\n",
    "nums1 = [1, 2]\n",
    "nums2 = [3, 4]\n",
    "则中位数是 (2 + 3)/2 = 2.5\n",
    "</Example>\n",
    "```\n",
    "\n",
    "## 编码难度：(困难 | Difficult) ✅✅✅✅\n",
    "\n",
    "## 解法方案\n",
    "> 🧐 *Coding Ideas Type 1* 🧐\n",
    "将方案转化为经典的findKth问题\n",
    "参考: <http://chaoren.is-programmer.com/posts/42890.html>\n",
    "首先转成求A和B数组中第k小的数的问题, 然后用k/2在A和B中分别找;\n",
    "比如k = 6, 分别看A和B中的第3个数, 已知`A1 < A2 < A3 < A4 < A5...`和`B1 < B2 < B3 < B4 < B5...`, 如果`A3 <＝ B3`, 那么第6小的数肯定不会是A1, A2, A3, 因为最多有两个数小于A1, 三个数小于A2, 四个数小于A3, 关键点是从 k/2 开始来找。;\n",
    "B3至少大于5个数, 所以第6小的数有可能是`B1 (A1 < A2 < A3 < A4 < A5 < B1)`, 有可能是`B2 (A1 < A2 < A3 < B1 < A4 < B2)`, 有可能是`B3 (A1 < A2 < A3 < B1 < B2 < B3)`, 那就可以排除掉A1, A2, A3, 转成求`A4, A5, ... B1, B2, B3, ...`这些数中第3小的数的问题, k就被减半了, 每次都假设A的元素个数少, `pa = min(k/2, lenA)`的结果可能导致`k == 1或A空`, 这两种情况都是终止条件;\n",
    "如果A1 < B5, 这个时间可能性就很多了, 比如`A1 < A2 < A3 < A4 < B1 < B2`, 各种可能无法排除元素, 所以还是要从k/2开始寻找;\n",
    "这个和习题算法的区别是每次扔的东西明显少一些, 但是k也在不断变小, 下面的代码的时间复杂度是O(lg(m+n))\n"
   ]
  },
  {
   "cell_type": "code",
   "execution_count": null,
   "outputs": [],
   "source": [
    "class Solution(object):\n",
    "\n",
    "    def findMedianSortedArrays(self, nums1, nums2):\n",
    "        \"\"\"\n",
    "        :type nums1: List[int]\n",
    "        :type nums2: List[int]\n",
    "        :rtype: float\n",
    "        \"\"\"\n",
    "        n = len(nums1) + len(nums2)\n",
    "        if n % 2 == 1:\n",
    "        \treturn self.findKth(nums1, nums2, n / 2 + 1)\n",
    "        else:\n",
    "        \tsmaller = self.findKth(nums1, nums2, n / 2)\n",
    "        \tbigger = self.findKth(nums1, nums2, n / 2 + 1)\n",
    "        \treturn (smaller + bigger) / 2.0\n",
    "\n",
    "\n",
    "    def findKth(self, A, B, k):\n",
    "    \tif len(A) == 0:\n",
    "    \t\treturn B[k-1]\n",
    "    \tif len(B) == 0:\n",
    "    \t\treturn A[k-1]\n",
    "    \tif k == 1 :\n",
    "    \t\treturn min(A[0],B[0])\n",
    "\n",
    "    \ta = A[ k / 2 - 1 ] if len(A) >= k / 2 else None\n",
    "    \tb = B[ k / 2 - 1 ] if len(B) >= k / 2 else None\n",
    "\n",
    "    \tif b is None or (a is not None and a < b):\n",
    "    \t\treturn self.findKth(A[k/2:], B, k - k/2)\n",
    "    \treturn self.findKth(A, B[k/2:],k - k/2)  #这里要注意：因为 k/2 不一定 等于 (k - k/2), \n"
   ],
   "metadata": {
    "collapsed": false,
    "pycharm": {
     "name": "#%%\n"
    }
   }
  }
 ],
 "metadata": {
  "kernelspec": {
   "display_name": "${KERNEL_SPEC_DISPLAY_NAME}",
   "language": "${KERNEL_SPEC_LANGUAGE}",
   "name": "${KERNEL_SPEC_NAME}"
  },
  "language_info": {
   "codemirror_mode": {
    "name": "ipython",
    "version": 2
   },
   "file_extension": ".py",
   "mimetype": "text/x-python",
   "name": "python",
   "nbconvert_exporter": "python",
   "pygments_lexer": "ipython2",
   "version": "2.7.6"
  },
  "pycharm": {
   "stem_cell": {
    "cell_type": "raw",
    "source": [],
    "metadata": {
     "collapsed": false
    }
   }
  }
 },
 "nbformat": 4,
 "nbformat_minor": 0
}
