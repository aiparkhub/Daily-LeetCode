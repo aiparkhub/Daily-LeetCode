{
 "cells": [
  {
   "cell_type": "markdown",
   "metadata": {},
   "source": [
    "# 6. 👨🏼‍💻 Daily LeetCode For Jupyter Notebook  👨🏼‍💻\n",
    "\n",
    "## Coding For Show Time - Daily LeetCode | Enhanced Algorithmic Ideas\n",
    "\n",
    "[![Programming Language For Python](https://img.shields.io/badge/Programming%20Language-Python-blue.svg?style=for-the-badge&logo=python&logoColor=white&cacheSeconds=3600)]()\n",
    "[![Github Organization For AiParkHub](https://img.shields.io/badge/Github%20Organization-aiparkhub-magenta.svg?style=for-the-badge&logo=microsoft-teams&logoColor=white&cacheSeconds=3600)](https://github.com/aiparkhub)\n",
    "[![WebSite For AiParkHub](https://img.shields.io/badge/WebSite-AIParkHub-yellow.svg?style=for-the-badge&logo=github&cacheSeconds=3600)](https://github.com/aiparkhub)\n",
    "\n",
    "## 题目: Zigzag Transformation (Z字形变换)\n",
    "- 中文：https://leetcode-cn.com/problems/zigzag-conversion/\n",
    "- 英文：https://leetcode.com/problems/zigzag-conversion/\n",
    "\n",
    "``` bash\n",
    "<Description>\n",
    "将一个给定字符串根据给定的行数，以从上往下、从左到右进行 Z 字形排列;\n",
    "\n",
    "比如输入字符串为\"LEETCODEISHIRING\"行数为3时, 排列如下：\n",
    "\n",
    "L   C   I   R\n",
    "E T O E S I I G\n",
    "E   D   H   N\n",
    "\n",
    "之后你的输出需要从左往右逐行读取, 产生出一个新的字符串, 比如 \"LCIRETOESIIGEDHN\"\n",
    "\n",
    "请你实现这个将字符串进行指定行数变换的函数: string convert(string s, int numRows);\n",
    "</Description>\n",
    "\n",
    "<Example>\n",
    "输入: s = \"LEETCODEISHIRING\", numRows = 3\n",
    "输出: \"LCIRETOESIIGEDHN\"\n",
    "\n",
    "输入: s = \"LEETCODEISHIRING\", numRows = 4\n",
    "输出: \"LDREOEIIECIHNTSG\"\n",
    "解释:\n",
    "L     D     R\n",
    "E   O E   I I\n",
    "E C   I H   N\n",
    "T     S     G\n",
    "</Example>\n",
    "```\n",
    "\n",
    "## 编码难度：(中等 | Medium) 🌟🌟🌟\n",
    "\n",
    "## 解法方案\n",
    "> 🧐 *Coding Ideas Type 1* 🧐\n",
    "\n",
    "参考[pharrellyhy](https://leetcode.com/problems/zigzag-conversion/discuss/3404/Python-O(n)-Solution-in-96ms-(99.43)?page=2)大神思路, 纵向思维考虑, ```index```从```0```开始要一直***自增***直到```numRows-1```, 此后又一直***自减***到```0```重复执行;\n",
    "\n",
    "示例：```s = \"abcdefghijklmn\"```, ```numRows = 4```\n",
    "```\n",
    "a   g   m\n",
    "b f h l n\n",
    "c e i k\n",
    "d   j\n",
    "```\n"
   ]
  },
  {
   "cell_type": "code",
   "execution_count": 1,
   "metadata": {
    "collapsed": false,
    "jupyter": {
     "outputs_hidden": false
    },
    "pycharm": {
     "name": "#%%\n"
    }
   },
   "outputs": [
    {
     "name": "stdout",
     "output_type": "stream",
     "text": [
      "res => agmbfhlnceikdj\n"
     ]
    }
   ],
   "source": [
    "# -*- coding:utf-8 -*-\n",
    "#\n",
    "# Geek International Park | 极客国际公园 & GeekParkHub | 极客实验室\n",
    "# Website | https://www.geekparkhub.com\n",
    "# Description | Open · Creation |\n",
    "# Open Source Open Achievement Dream, GeekParkHub Co-construction has never been seen before.\n",
    "#\n",
    "# HackerParkHub | 黑客公园\n",
    "# Website | https://www.hackerparkhub.org\n",
    "# Description | In the spirit of fearless exploration, create unknown technology and worship of technology.\n",
    "#\n",
    "# AiParkHub | 人工智能公园\n",
    "# Website | https://github.com/aiparkhub\n",
    "# Description | Embark on the wave of AI and push the limits of machine intelligence.\n",
    "#\n",
    "# @GeekDeveloper : JEEP-711\n",
    "# @Author : system\n",
    "# @Version : 0.2.5\n",
    "# @Program : 定义 Z字形变换 示例 | Definition Zigzag transformation Example\n",
    "# @File : topic_6_zigzag_conversion.ipynb\n",
    "# @Copyright © 2019 - 2020 AiParkHub-Organization. All rights reserved.\n",
    "\n",
    "\n",
    "class Solution(object):\n",
    "    \"\"\"\n",
    "    定义 解答类 |  Definition Solution Class\n",
    "    \"\"\"\n",
    "    \n",
    "    def convert(self, s, numRows):\n",
    "        \"\"\"\n",
    "        定义 转换 方法 | Definition conversion method\n",
    "        :type s: str\n",
    "        :type numRows: int\n",
    "        :rtype: str\n",
    "        \"\"\"\n",
    "        \n",
    "        if numRows == 1 or numRows >= len(s):\n",
    "            return s\n",
    "        res = [''] * numRows\n",
    "        idx, step = 0, 1\n",
    "        \n",
    "        for x in s:\n",
    "            res[idx] += x\n",
    "            # 第一行 持续向下执行\n",
    "            if idx == 0:\n",
    "                step = 1\n",
    "            # 最后一行 持续向上执行 \n",
    "            elif idx == numRows -1:\n",
    "                step = -1\n",
    "            idx += step\n",
    "        return ''.join(res)\n",
    "\n",
    "\n",
    "# 定义 主模块 | Definition Main module\n",
    "if __name__ == '__main__':\n",
    "    # 定义 变量 | Definition variable\n",
    "    string = \"abcdefghijklmn\"\n",
    "    num = 4\n",
    "    \n",
    "    # 创建 对象实例 | Create object instance\n",
    "    s = Solution()\n",
    "    \n",
    "    # 调用方法 输出打印结果 | Call method Output print result\n",
    "    print(\"res =>\", s.convert(string, num))\n",
    "\n",
    "\n"
   ]
  }
 ],
 "metadata": {
  "kernelspec": {
   "display_name": "Python 3",
   "language": "python",
   "name": "python3"
  },
  "language_info": {
   "codemirror_mode": {
    "name": "ipython",
    "version": 3
   },
   "file_extension": ".py",
   "mimetype": "text/x-python",
   "name": "python",
   "nbconvert_exporter": "python",
   "pygments_lexer": "ipython3",
   "version": "3.7.4"
  },
  "pycharm": {
   "stem_cell": {
    "cell_type": "raw",
    "source": [],
    "metadata": {
     "collapsed": false
    }
   }
  }
 },
 "nbformat": 4,
 "nbformat_minor": 4
}
